{
 "cells": [
  {
   "cell_type": "markdown",
   "metadata": {},
   "source": [
    "# Getting started with MPSlib\n",
    "This a small example of geeting started with MPSlib through an iPython notebook"
   ]
  },
  {
   "cell_type": "code",
   "execution_count": 1,
   "metadata": {},
   "outputs": [],
   "source": [
    "#%matplotlib widget\n",
    "import numpy as np\n",
    "import matplotlib.pyplot as plt\n",
    "import mpslib as mps\n"
   ]
  },
  {
   "cell_type": "markdown",
   "metadata": {},
   "source": [
    "### Setup MPSLib"
   ]
  },
  {
   "cell_type": "code",
   "execution_count": 2,
   "metadata": {},
   "outputs": [
    {
     "data": {
      "text/plain": [
       "{'n_real': 50,\n",
       " 'rseed': 1,\n",
       " 'n_max_cpdf_count': 1,\n",
       " 'out_folder': '.',\n",
       " 'ti_fnam': 'ti.dat',\n",
       " 'simulation_grid_size': array([80, 50,  1]),\n",
       " 'origin': array([0., 0., 0.]),\n",
       " 'grid_cell_size': array([1, 1, 1]),\n",
       " 'mask_fnam': 'mask.dat',\n",
       " 'hard_data_fnam': 'hard.dat',\n",
       " 'shuffle_simulation_grid': 2,\n",
       " 'entropyfactor_simulation_grid': 4,\n",
       " 'shuffle_ti_grid': 1,\n",
       " 'hard_data_search_radius': 1,\n",
       " 'soft_data_categories': array([0, 1]),\n",
       " 'soft_data_fnam': 'soft.dat',\n",
       " 'n_threads': -1,\n",
       " 'debug_level': -1,\n",
       " 'template_size': array([8, 7, 1]),\n",
       " 'n_multiple_grids': 3,\n",
       " 'n_min_node_count': 0,\n",
       " 'n_cond': 1}"
      ]
     },
     "execution_count": 2,
     "metadata": {},
     "output_type": "execute_result"
    }
   ],
   "source": [
    "O = mps.mpslib(method='mps_snesim_tree',\n",
    "                    verbose_level=-1)\n",
    "O.parameter_filename = 'mps_snesim.txt'\n",
    "O.par['debug_level']=-1\n",
    "O.par['n_cond']=1\n",
    "O.par['n_real']=50\n",
    "O.par['simulation_grid_size']=np.array([80,50,1])\n",
    "\n",
    "O.par"
   ]
  },
  {
   "cell_type": "markdown",
   "metadata": {},
   "source": [
    "### Choose training image"
   ]
  },
  {
   "cell_type": "code",
   "execution_count": null,
   "metadata": {},
   "outputs": [],
   "source": [
    "\n",
    "#TI, TI_filename = mps.trainingimages.strebelle(di=2, coarse3d=1)\n",
    "TI, TI_filename = mps.trainingimages.rot90()\n",
    "O.par['ti_fnam']=TI_filename\n"
   ]
  },
  {
   "cell_type": "code",
   "execution_count": 4,
   "metadata": {
    "scrolled": true
   },
   "outputs": [
    {
     "data": {
      "text/plain": [
       "<matplotlib.image.AxesImage at 0x7fbf1bb93320>"
      ]
     },
     "execution_count": 4,
     "metadata": {},
     "output_type": "execute_result"
    },
    {
     "data": {
      "image/png": "[encoded data removed]",
      "text/plain": [
       "<Figure size 432x288 with 1 Axes>"
      ]
     },
     "metadata": {
      "needs_background": "light"
     },
     "output_type": "display_data"
    }
   ],
   "source": [
    "plt.imshow(TI[:,:,0])"
   ]
  },
  {
   "cell_type": "markdown",
   "metadata": {},
   "source": [
    "### Run MPSlib"
   ]
  },
  {
   "cell_type": "code",
   "execution_count": 5,
   "metadata": {},
   "outputs": [
    {
     "name": "stdout",
     "output_type": "stream",
     "text": [
      "parallel: using 50 threads to simulate 50 realizations\n",
      "parallel: with up to 1 relizations per thread\n",
      "parallel: Using 50 of max 52 threads\n",
      "__name__ = mpslib.mpslib\n",
      "Thread:000, nr=1\n",
      "Thread:001, nr=1\n",
      "Thread:002, nr=1\n",
      "Thread:003, nr=1\n",
      "Thread:004, nr=1\n",
      "Thread:005, nr=1\n",
      "Thread:006, nr=1\n",
      "Thread:007, nr=1\n",
      "Thread:008, nr=1\n",
      "Thread:009, nr=1\n",
      "Thread:010, nr=1\n",
      "Thread:011, nr=1\n",
      "Thread:012, nr=1\n",
      "Thread:013, nr=1\n",
      "Thread:014, nr=1\n",
      "Thread:015, nr=1\n",
      "Thread:016, nr=1\n",
      "Thread:017, nr=1\n",
      "Thread:018, nr=1\n",
      "Thread:019, nr=1\n",
      "Thread:020, nr=1\n",
      "Thread:021, nr=1\n",
      "Thread:022, nr=1\n",
      "Thread:023, nr=1\n",
      "Thread:024, nr=1\n",
      "Thread:025, nr=1\n",
      "Thread:026, nr=1\n",
      "Thread:027, nr=1\n",
      "Thread:028, nr=1\n",
      "Thread:029, nr=1\n",
      "Thread:030, nr=1\n",
      "Thread:031, nr=1\n",
      "Thread:032, nr=1\n",
      "Thread:033, nr=1\n",
      "Thread:034, nr=1\n",
      "Thread:035, nr=1\n",
      "Thread:036, nr=1\n",
      "Thread:037, nr=1\n",
      "Thread:038, nr=1\n",
      "Thread:039, nr=1\n",
      "Thread:040, nr=1\n",
      "Thread:041, nr=1\n",
      "Thread:042, nr=1\n",
      "Thread:043, nr=1\n",
      "Thread:044, nr=1\n",
      "Thread:045, nr=1\n",
      "Thread:046, nr=1\n",
      "Thread:047, nr=1\n",
      "Thread:048, nr=1\n",
      "Thread:049, nr=1\n",
      "028:Could read combine gslib output files - perhaps empty output?\n",
      "024:Could read combine gslib output files - perhaps empty output?\n",
      "027:Could read combine gslib output files - perhaps empty output?\n",
      "036:Could read combine gslib output files - perhaps empty output?\n",
      "029:Could read combine gslib output files - perhaps empty output?\n",
      "047:Could read combine gslib output files - perhaps empty output?\n",
      "039:Could read combine gslib output files - perhaps empty output?\n",
      "046:Could read combine gslib output files - perhaps empty output?\n",
      "046:Could not read gslib output file: ti_thread_046.dat_sg_0.gslib\n",
      "047:Could not read gslib output file: ti_thread_047.dat_sg_0.gslib\n",
      "029:Could not read gslib output file: ti_thread_029.dat_sg_0.gslib\n",
      "039:Could not read gslib output file: ti_thread_039.dat_sg_0.gslib\n",
      "036:Could not read gslib output file: ti_thread_036.dat_sg_0.gslib\n",
      "027:Could not read gslib output file: ti_thread_027.dat_sg_0.gslib\n",
      "028:Could not read gslib output file: ti_thread_028.dat_sg_0.gslib\n",
      "024:Could not read gslib output file: ti_thread_024.dat_sg_0.gslib\n",
      "Filename:'./thread020/ti_thread_020.dat_sg_0.gslib', does not exist\n",
      "Filename:'./thread006/ti_thread_006.dat_sg_0.gslib', does not exist\n",
      "Filename:'./thread009/ti_thread_009.dat_sg_0.gslib', does not exist\n",
      "Filename:'./thread017/ti_thread_017.dat_sg_0.gslib', does not exist\n",
      "Filename:'./thread008/ti_thread_008.dat_sg_0.gslib', does not exist\n",
      "Filename:'./thread011/ti_thread_011.dat_sg_0.gslib', does not exist\n",
      "032:Could not read gslib output file: ti_thread_032.dat_sg_0.gslib\n",
      "035:Could not read gslib output file: ti_thread_035.dat_sg_0.gslib\n",
      "043:Could not read gslib output file: ti_thread_043.dat_sg_0.gslib\n",
      "032:Could read combine gslib output files - perhaps empty output?\n",
      "035:Could read combine gslib output files - perhaps empty output?\n",
      "043:Could read combine gslib output files - perhaps empty output?\n",
      "020:Could not read gslib output file: ti_thread_020.dat_sg_0.gslib\n",
      "020:Could read combine gslib output files - perhaps empty output?\n",
      "Filename:'./thread007/ti_thread_007.dat_sg_0.gslib', does not exist\n",
      "Filename:'./thread015/ti_thread_015.dat_sg_0.gslib', does not exist\n",
      "009:Could not read gslib output file: ti_thread_009.dat_sg_0.gslib\n",
      "007:Could not read gslib output file: ti_thread_007.dat_sg_0.gslib\n",
      "007:Could read combine gslib output files - perhaps empty output?\n",
      "Filename:'./thread018/ti_thread_018.dat_sg_0.gslib', does not exist\n",
      "Filename:'./thread014/ti_thread_014.dat_sg_0.gslib', does not exist\n",
      "014:Could not read gslib output file: ti_thread_014.dat_sg_0.gslib\n",
      "Filename:'./thread041/ti_thread_041.dat_sg_0.gslib', does not exist\n",
      "041:Could not read gslib output file: ti_thread_041.dat_sg_0.gslib\n",
      "041:Could read combine gslib output files - perhaps empty output?\n",
      "Filename:'./thread012/ti_thread_012.dat_sg_0.gslib', does not exist\n",
      "Filename:'./thread004/ti_thread_004.dat_sg_0.gslib', does not exist\n",
      "Filename:'./thread016/ti_thread_016.dat_sg_0.gslib', does not exist\n",
      "014:Could read combine gslib output files - perhaps empty output?\n",
      "042:Could read combine gslib output files - perhaps empty output?\n",
      "044:Could read combine gslib output files - perhaps empty output?\n",
      "003:Could not read gslib output file: ti_thread_003.dat_sg_0.gslib\n",
      "003:Could read combine gslib output files - perhaps empty output?\n",
      "Filename:'./thread013/ti_thread_013.dat_sg_0.gslib', does not exist\n",
      "013:Could not read gslib output file: ti_thread_013.dat_sg_0.gslib\n",
      "Filename:'./thread002/ti_thread_002.dat_sg_0.gslib', does not exist\n",
      "002:Could not read gslib output file: ti_thread_002.dat_sg_0.gslib\n",
      "002:Could read combine gslib output files - perhaps empty output?\n",
      "parallel job done. Collecting data from threads\n",
      "parallel: collected 20 realizations\n"
     ]
    },
    {
     "data": {
      "text/plain": [
       "[<mpslib.mpslib.mpslib at 0x7fbf108ca8d0>,\n",
       " <mpslib.mpslib.mpslib at 0x7fbf108d3e48>,\n",
       " <mpslib.mpslib.mpslib at 0x7fbf108d3d68>,\n",
       " <mpslib.mpslib.mpslib at 0x7fbf10922d30>,\n",
       " <mpslib.mpslib.mpslib at 0x7fbf108cacf8>,\n",
       " <mpslib.mpslib.mpslib at 0x7fbf108d3a20>,\n",
       " <mpslib.mpslib.mpslib at 0x7fbf10922c18>,\n",
       " <mpslib.mpslib.mpslib at 0x7fbf10922eb8>,\n",
       " <mpslib.mpslib.mpslib at 0x7fbf10922d68>,\n",
       " <mpslib.mpslib.mpslib at 0x7fbf108ca860>,\n",
       " <mpslib.mpslib.mpslib at 0x7fbf108caba8>,\n",
       " <mpslib.mpslib.mpslib at 0x7fbf10922a58>,\n",
       " <mpslib.mpslib.mpslib at 0x7fbf1091bd30>,\n",
       " <mpslib.mpslib.mpslib at 0x7fbf108cae80>,\n",
       " <mpslib.mpslib.mpslib at 0x7fbf10922fd0>,\n",
       " <mpslib.mpslib.mpslib at 0x7fbf10922f60>,\n",
       " <mpslib.mpslib.mpslib at 0x7fbf10922630>,\n",
       " <mpslib.mpslib.mpslib at 0x7fbf10922978>,\n",
       " <mpslib.mpslib.mpslib at 0x7fbf108ca828>,\n",
       " <mpslib.mpslib.mpslib at 0x7fbf108cada0>,\n",
       " <mpslib.mpslib.mpslib at 0x7fbf10914b00>,\n",
       " <mpslib.mpslib.mpslib at 0x7fbf108d3c18>,\n",
       " <mpslib.mpslib.mpslib at 0x7fbf108ca978>,\n",
       " <mpslib.mpslib.mpslib at 0x7fbf108d3470>,\n",
       " <mpslib.mpslib.mpslib at 0x7fbf10914c18>,\n",
       " <mpslib.mpslib.mpslib at 0x7fbf108d3f60>,\n",
       " <mpslib.mpslib.mpslib at 0x7fbf108caa20>,\n",
       " <mpslib.mpslib.mpslib at 0x7fbf10914a58>,\n",
       " <mpslib.mpslib.mpslib at 0x7fbf1091b550>,\n",
       " <mpslib.mpslib.mpslib at 0x7fbf1091beb8>,\n",
       " <mpslib.mpslib.mpslib at 0x7fbf108caeb8>,\n",
       " <mpslib.mpslib.mpslib at 0x7fbf108caf98>,\n",
       " <mpslib.mpslib.mpslib at 0x7fbf10914c88>,\n",
       " <mpslib.mpslib.mpslib at 0x7fbf108caac8>,\n",
       " <mpslib.mpslib.mpslib at 0x7fbf108d3da0>,\n",
       " <mpslib.mpslib.mpslib at 0x7fbf1091ba58>,\n",
       " <mpslib.mpslib.mpslib at 0x7fbf1091be10>,\n",
       " <mpslib.mpslib.mpslib at 0x7fbf108d3eb8>,\n",
       " <mpslib.mpslib.mpslib at 0x7fbf108d3dd8>,\n",
       " <mpslib.mpslib.mpslib at 0x7fbf1091bf60>,\n",
       " <mpslib.mpslib.mpslib at 0x7fbf108d3e80>,\n",
       " <mpslib.mpslib.mpslib at 0x7fbf10922828>,\n",
       " <mpslib.mpslib.mpslib at 0x7fbf10922cf8>,\n",
       " <mpslib.mpslib.mpslib at 0x7fbf1091bfd0>,\n",
       " <mpslib.mpslib.mpslib at 0x7fbf10922e10>,\n",
       " <mpslib.mpslib.mpslib at 0x7fbf108d3cf8>,\n",
       " <mpslib.mpslib.mpslib at 0x7fbf1091bd68>,\n",
       " <mpslib.mpslib.mpslib at 0x7fbf1091bc18>,\n",
       " <mpslib.mpslib.mpslib at 0x7fbf108cac18>,\n",
       " <mpslib.mpslib.mpslib at 0x7fbf108cad68>]"
      ]
     },
     "execution_count": 5,
     "metadata": {},
     "output_type": "execute_result"
    }
   ],
   "source": [
    "#O.run()\n",
    "O.run_parallel()"
   ]
  },
  {
   "cell_type": "markdown",
   "metadata": {},
   "source": [
    "### Plot some realizations using matplotlib"
   ]
  },
  {
   "cell_type": "code",
   "execution_count": 6,
   "metadata": {},
   "outputs": [
    {
     "ename": "IndexError",
     "evalue": "list index out of range",
     "output_type": "error",
     "traceback": [
      "\u001b[0;31m---------------------------------------------------------------------------\u001b[0m",
      "\u001b[0;31mIndexError\u001b[0m                                Traceback (most recent call last)",
      "\u001b[0;32m<ipython-input-6-c8bf601128b4>\u001b[0m in \u001b[0;36m<module>\u001b[0;34m\u001b[0m\n\u001b[0;32m----> 1\u001b[0;31m \u001b[0mO\u001b[0m\u001b[0;34m.\u001b[0m\u001b[0mplot_reals\u001b[0m\u001b[0;34m(\u001b[0m\u001b[0;34m)\u001b[0m\u001b[0;34m\u001b[0m\u001b[0;34m\u001b[0m\u001b[0m\n\u001b[0m",
      "\u001b[0;32m/mnt/PROGRAMMING/mpslib/scikit-mps/mpslib/mpslib.py\u001b[0m in \u001b[0;36mplot_reals\u001b[0;34m(self, nr, hardcopy, hardcopy_filename, nanval, filternan)\u001b[0m\n\u001b[1;32m    774\u001b[0m             \u001b[0mfig\u001b[0m\u001b[0;34m.\u001b[0m\u001b[0madd_subplot\u001b[0m\u001b[0;34m(\u001b[0m\u001b[0max1\u001b[0m\u001b[0;34m)\u001b[0m\u001b[0;34m\u001b[0m\u001b[0;34m\u001b[0m\u001b[0m\n\u001b[1;32m    775\u001b[0m             \u001b[0;32mif\u001b[0m \u001b[0mfilternan\u001b[0m\u001b[0;34m==\u001b[0m\u001b[0;36m1\u001b[0m\u001b[0;34m:\u001b[0m\u001b[0;34m\u001b[0m\u001b[0;34m\u001b[0m\u001b[0m\n\u001b[0;32m--> 776\u001b[0;31m                 \u001b[0mself\u001b[0m\u001b[0;34m.\u001b[0m\u001b[0msim\u001b[0m\u001b[0;34m[\u001b[0m\u001b[0mi\u001b[0m\u001b[0;34m]\u001b[0m\u001b[0;34m[\u001b[0m\u001b[0mself\u001b[0m\u001b[0;34m.\u001b[0m\u001b[0msim\u001b[0m\u001b[0;34m[\u001b[0m\u001b[0mi\u001b[0m\u001b[0;34m]\u001b[0m\u001b[0;34m==\u001b[0m\u001b[0mnanval\u001b[0m\u001b[0;34m]\u001b[0m \u001b[0;34m=\u001b[0m \u001b[0mnp\u001b[0m\u001b[0;34m.\u001b[0m\u001b[0mnan\u001b[0m\u001b[0;34m\u001b[0m\u001b[0;34m\u001b[0m\u001b[0m\n\u001b[0m\u001b[1;32m    777\u001b[0m \u001b[0;34m\u001b[0m\u001b[0m\n\u001b[1;32m    778\u001b[0m             \u001b[0mD\u001b[0m\u001b[0;34m=\u001b[0m\u001b[0msqueeze\u001b[0m\u001b[0;34m(\u001b[0m\u001b[0mnp\u001b[0m\u001b[0;34m.\u001b[0m\u001b[0mtranspose\u001b[0m\u001b[0;34m(\u001b[0m\u001b[0mself\u001b[0m\u001b[0;34m.\u001b[0m\u001b[0msim\u001b[0m\u001b[0;34m[\u001b[0m\u001b[0mi\u001b[0m\u001b[0;34m]\u001b[0m\u001b[0;34m)\u001b[0m\u001b[0;34m)\u001b[0m\u001b[0;34m\u001b[0m\u001b[0;34m\u001b[0m\u001b[0m\n",
      "\u001b[0;31mIndexError\u001b[0m: list index out of range"
     ]
    },
    {
     "data": {
      "image/png": "[encoded data removed]",
      "text/plain": [
       "<Figure size 432x288 with 21 Axes>"
      ]
     },
     "metadata": {
      "needs_background": "light"
     },
     "output_type": "display_data"
    }
   ],
   "source": [
    "O.plot_reals()"
   ]
  },
  {
   "cell_type": "markdown",
   "metadata": {},
   "source": [
    "### Plot some realizations using vista"
   ]
  },
  {
   "cell_type": "code",
   "execution_count": null,
   "metadata": {},
   "outputs": [],
   "source": [
    "O.plot_reals_3d()"
   ]
  },
  {
   "cell_type": "code",
   "execution_count": null,
   "metadata": {},
   "outputs": [],
   "source": []
  },
  {
   "cell_type": "code",
   "execution_count": null,
   "metadata": {},
   "outputs": [],
   "source": []
  }
 ],
 "metadata": {
  "kernelspec": {
   "display_name": "Python 3",
   "language": "python",
   "name": "python3"
  },
  "language_info": {
   "codemirror_mode": {
    "name": "ipython",
    "version": 3
   },
   "file_extension": ".py",
   "mimetype": "text/x-python",
   "name": "python",
   "nbconvert_exporter": "python",
   "pygments_lexer": "ipython3",
   "version": "3.7.3"
  }
 },
 "nbformat": 4,
 "nbformat_minor": 2
}
