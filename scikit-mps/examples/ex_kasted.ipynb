{
 "cells": [
  {
   "cell_type": "markdown",
   "id": "b2a0c26a-1702-4606-a8f5-2e088bbb3f02",
   "metadata": {},
   "source": [
    "# Example: Kasted"
   ]
  },
  {
   "cell_type": "code",
   "execution_count": 1,
   "id": "2975a4f8-061e-49da-8111-180eb34fcd86",
   "metadata": {},
   "outputs": [],
   "source": [
    "import mpslib as mps\n",
    "import pyvista as pv\n",
    "pv.set_plot_theme(\"document\")\n",
    "#pv.global_theme.jupyter_backend = 'panel'  # use this in jupyter lab\n",
    "pv.global_theme.jupyter_backend = 'pythreejs' # use this in notebook"
   ]
  },
  {
   "cell_type": "code",
   "execution_count": 3,
   "id": "0c7a4bed-d6e9-4b79-8e2c-1c78551fb372",
   "metadata": {},
   "outputs": [
    {
     "name": "stderr",
     "output_type": "stream",
     "text": [
      "/home/tmeha/miniconda3/envs/mpslib/lib/python3.9/site-packages/pyvista/core/dataset.py:1332: PyvistaDeprecationWarning: Use of `cell_arrays` is deprecated. Use `cell_data` instead.\n",
      "  warnings.warn(\n"
     ]
    },
    {
     "data": {
      "application/vnd.jupyter.widget-view+json": {
       "model_id": "76ee9a174307431cafa34a2cb563d687",
       "version_major": 2,
       "version_minor": 0
      },
      "text/plain": [
       "Renderer(camera=PerspectiveCamera(aspect=1.3333333333333333, children=(DirectionalLight(color='#fefefe', inten…"
      ]
     },
     "metadata": {},
     "output_type": "display_data"
    }
   ],
   "source": [
    "# Get the training image\n",
    "TI, TI_fname = mps.trainingimages.kasted(dx=100)\n",
    "mps.plot.plot(TI)"
   ]
  },
  {
   "cell_type": "code",
   "execution_count": 16,
   "id": "8f4336d4-f361-4a38-8478-8044ea82053b",
   "metadata": {},
   "outputs": [],
   "source": [
    "# Get Kasted data\n",
    "\n",
    "url_base = 'https://raw.githubusercontent.com/ergosimulation/mpslib/master/data/kasted'\n",
    "remote_files=['kasted_soft_well.dat',  'kasted_soft_ele.dat',  'kasted_soft_res.dat' ]\n",
    "for local_file in remote_files:\n",
    "    mps.trainingimages.get_remote('%s/%s' %(url_base,local_file), local_file)\n",
    "        \n",
    "    \n",
    "EAS=mps.eas.read(remote_files[0])\n"
   ]
  },
  {
   "cell_type": "code",
   "execution_count": 17,
   "id": "21894ea7-99c4-4062-a7e8-38c7395e3c3d",
   "metadata": {},
   "outputs": [
    {
     "data": {
      "text/plain": [
       "{'title': 'Soft probability from well logs from Kasted',\n",
       " 'n_cols': 5,\n",
       " 'header': ['UTM X', 'UTM Y', 'UTM Z', 'P SAND', 'P CLAY'],\n",
       " 'D': array([[5.63564000e+05, 6.23318100e+06, 0.00000000e+00, 9.00000000e-01,\n",
       "         1.00000000e-01],\n",
       "        [5.63208000e+05, 6.23166600e+06, 0.00000000e+00, 5.00000000e-01,\n",
       "         5.00000000e-01],\n",
       "        [5.66323000e+05, 6.23458500e+06, 0.00000000e+00, 5.00000000e-01,\n",
       "         5.00000000e-01],\n",
       "        ...,\n",
       "        [5.66607970e+05, 6.22783318e+06, 0.00000000e+00, 5.00000000e-01,\n",
       "         5.00000000e-01],\n",
       "        [5.66538740e+05, 6.22789908e+06, 0.00000000e+00, 5.00000000e-01,\n",
       "         5.00000000e-01],\n",
       "        [5.72610690e+05, 6.22838600e+06, 0.00000000e+00, 5.00000000e-01,\n",
       "         5.00000000e-01]]),\n",
       " 'filename': 'kasted_soft_well.dat'}"
      ]
     },
     "execution_count": 17,
     "metadata": {},
     "output_type": "execute_result"
    }
   ],
   "source": [
    "EAS"
   ]
  },
  {
   "cell_type": "code",
   "execution_count": null,
   "id": "e9c7092f-ce0f-4a7a-b7bb-82c99b44fd22",
   "metadata": {},
   "outputs": [],
   "source": []
  }
 ],
 "metadata": {
  "kernelspec": {
   "display_name": "Python [conda env:mpslib] *",
   "language": "python",
   "name": "conda-env-mpslib-py"
  },
  "language_info": {
   "codemirror_mode": {
    "name": "ipython",
    "version": 3
   },
   "file_extension": ".py",
   "mimetype": "text/x-python",
   "name": "python",
   "nbconvert_exporter": "python",
   "pygments_lexer": "ipython3",
   "version": "3.9.7"
  }
 },
 "nbformat": 4,
 "nbformat_minor": 5
}
