{
 "cells": [
  {
   "cell_type": "markdown",
   "metadata": {},
   "source": [
    "# Plotting with vista\n",
    "vista [http://docs.pyvista.org/] is a python module that alow easy acceess/use of the Visualization Toolkit (VTK). It makes rendering and slicing 3D volumes, as output from MPSlib, straight forward"
   ]
  },
  {
   "cell_type": "markdown",
   "metadata": {},
   "source": [
    "vista can be installed using pip:\n",
    "\n",
    "    pip install vista\n",
    "    \n",
    "or conda\n",
    "\n",
    "    conda install vista\n",
    "    \n",
    "    "
   ]
  },
  {
   "cell_type": "markdown",
   "metadata": {},
   "source": [
    "## Visualize a 3D trainig image"
   ]
  },
  {
   "cell_type": "code",
   "execution_count": 1,
   "metadata": {},
   "outputs": [
    {
     "name": "stdout",
     "output_type": "stream",
     "text": [
      "Available training images:\n",
      "   checkerboard - 2D checkerboard\n",
      "  checkerboard2 - 2D checkerboard - alternative\n",
      "      strebelle - 2D discrete channels from Strebelle\n",
      "          lines - 2D discrete lines\n",
      "         stones - 2D continious stones\n",
      "     bangladesh - 2D discrete Bangladesh\n",
      "           maze - 2D discrete maze\n",
      "          rot90 - 3D rotation 90\n",
      "          rot20 - 3D rotation 20\n",
      "       horizons - 3D continious horizons\n",
      "        fluvsim - 3D discrete fluvsim\n"
     ]
    }
   ],
   "source": [
    "import mpslib as mps\n",
    "\n",
    "mps.trainingimages.ti_list();"
   ]
  },
  {
   "cell_type": "code",
   "execution_count": 2,
   "metadata": {},
   "outputs": [
    {
     "name": "stdout",
     "output_type": "stream",
     "text": [
      "Beginning download of http://trainingimages.org/uploads/3/4/7/0/34703305/checker_rotinvariant_90.zip to ti_tot90.dat.zip\n",
      "Unziping ti_tot90.dat.zip to ti_tot90.dat\n"
     ]
    }
   ],
   "source": [
    "TI, TI_filename = mps.trainingimages.rot90()"
   ]
  },
  {
   "cell_type": "code",
   "execution_count": 3,
   "metadata": {},
   "outputs": [
    {
     "name": "stdout",
     "output_type": "stream",
     "text": [
      "\n"
     ]
    }
   ],
   "source": [
    "mps.plot.plot_3d(TI, slice=1)"
   ]
  },
  {
   "cell_type": "code",
   "execution_count": null,
   "metadata": {},
   "outputs": [],
   "source": []
  },
  {
   "cell_type": "code",
   "execution_count": null,
   "metadata": {},
   "outputs": [],
   "source": []
  }
 ],
 "metadata": {
  "kernelspec": {
   "display_name": "Python 3",
   "language": "python",
   "name": "python3"
  },
  "language_info": {
   "codemirror_mode": {
    "name": "ipython",
    "version": 3
   },
   "file_extension": ".py",
   "mimetype": "text/x-python",
   "name": "python",
   "nbconvert_exporter": "python",
   "pygments_lexer": "ipython3",
   "version": "3.7.6"
  }
 },
 "nbformat": 4,
 "nbformat_minor": 2
}
