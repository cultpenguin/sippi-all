{
  "nbformat": 4,
  "nbformat_minor": 0,
  "metadata": {
    "colab": {
      "name": "mpslib_in_google_colab.ipynb",
      "version": "0.3.2",
      "provenance": [],
      "collapsed_sections": [
        "y8bVpm11gCLw"
      ]
    },
    "kernelspec": {
      "name": "python3",
      "display_name": "Python 3"
    }
  },
  "cells": [
    {
      "cell_type": "markdown",
      "metadata": {
        "id": "rMCeH4O_jlZg",
        "colab_type": "text"
      },
      "source": [
        "# MPSLIB in Google Colab\n",
        "This is a simple exmaple of running MPSLIB online in Google Colab"
      ]
    },
    {
      "cell_type": "markdown",
      "metadata": {
        "id": "9lWUZXe2oGjj",
        "colab_type": "text"
      },
      "source": [
        "## INSTALL MPSLIB (simple) (only needed once on google colab)"
      ]
    },
    {
      "cell_type": "markdown",
      "metadata": {
        "id": "Mx4XBboKnb0i",
        "colab_type": "text"
      },
      "source": [
        ""
      ]
    },
    {
      "cell_type": "code",
      "metadata": {
        "id": "w9IL9AA_n3Q3",
        "colab_type": "code",
        "outputId": "e624d6f3-69ce-4b57-a83f-e9a952673bf2",
        "colab": {
          "base_uri": "https://localhost:8080/",
          "height": 34
        }
      },
      "source": [
        "module_name='mpslib'\n",
        "try:\n",
        "    __import__(module_name)\n",
        "    print('%s allready installed. skipping installation.' % module_name)\n",
        "        \n",
        "except ImportError:\n",
        "    print('%s cannot be loaded. trying to install it.' % module_name)\n",
        "    #curl -O https://raw.githubusercontent.com/ergosimulation/mpslib/master/install_latest_mpslib.sh\n",
        "    #sh ./install_latest_mpslib.sh\n",
        "        "
      ],
      "execution_count": 1,
      "outputs": [
        {
          "output_type": "stream",
          "text": [
            "mpslib allready installed. skipping installation.\n"
          ],
          "name": "stdout"
        }
      ]
    },
    {
      "cell_type": "markdown",
      "metadata": {
        "id": "y8bVpm11gCLw",
        "colab_type": "text"
      },
      "source": [
        "##INSTALL MPSLIB (only needed once on google colab)"
      ]
    },
    {
      "cell_type": "code",
      "metadata": {
        "id": "VbAykVdWi_BI",
        "colab_type": "code",
        "colab": {}
      },
      "source": [
        "import os"
      ],
      "execution_count": 0,
      "outputs": []
    },
    {
      "cell_type": "code",
      "metadata": {
        "id": "_59fgiyOftWb",
        "colab_type": "code",
        "outputId": "b5c74500-74e2-4e39-efaa-ec6561a45d8d",
        "colab": {
          "base_uri": "https://localhost:8080/",
          "height": 0
        }
      },
      "source": [
        "# Get code from GITHUB\n",
        "os.chdir('/content')\n",
        "!rm -fr mpslib && git clone https://github.com/ergosimulation/mpslib.git\n",
        "# Compile\n",
        "os.chdir('/content/mpslib')\n",
        "!make clean\n",
        "!make\n",
        "!pwd\n",
        "!ls"
      ],
      "execution_count": 3,
      "outputs": [
        {
          "output_type": "stream",
          "text": [
            "Cloning into 'mpslib'...\n",
            "remote: Enumerating objects: 371, done.\u001b[K\n",
            "remote: Counting objects: 100% (371/371), done.\u001b[K\n",
            "remote: Compressing objects: 100% (269/269), done.\u001b[K\n",
            "remote: Total 3023 (delta 234), reused 223 (delta 101), pack-reused 2652\u001b[K\n",
            "Receiving objects: 100% (3023/3023), 23.91 MiB | 21.93 MiB/s, done.\n",
            "Resolving deltas: 100% (2079/2079), done.\n",
            "rm -f *.o mps mpslib/*.o mpslib/mpslib.a\n",
            "make -C mpslib\n",
            "make[1]: Entering directory '/content/mpslib/mpslib'\n",
            "g++ -o ENESIM.o -I. -O3 -std=c++11 -static -Wl,--no-as-needed -c ENESIM.cpp\n",
            "g++ -o Coords3D.o -I. -O3 -std=c++11 -static -Wl,--no-as-needed -c Coords3D.cpp\n",
            "g++ -o MPSAlgorithm.o -I. -O3 -std=c++11 -static -Wl,--no-as-needed -c MPSAlgorithm.cpp\n",
            "g++ -o Coords4D.o -I. -O3 -std=c++11 -static -Wl,--no-as-needed -c Coords4D.cpp\n",
            "g++ -o IO.o -I. -O3 -std=c++11 -static -Wl,--no-as-needed -c IO.cpp\n",
            "g++ -o SNESIM.o -I. -O3 -std=c++11 -static -Wl,--no-as-needed -c SNESIM.cpp\n",
            "g++ -o Utility.o -I. -O3 -std=c++11 -static -Wl,--no-as-needed -c Utility.cpp\n",
            "ar rsv mpslib.a ENESIM.o Coords3D.o MPSAlgorithm.o Coords4D.o IO.o SNESIM.o Utility.o\n",
            "ar: creating mpslib.a\n",
            "a - ENESIM.o\n",
            "a - Coords3D.o\n",
            "a - MPSAlgorithm.o\n",
            "a - Coords4D.o\n",
            "a - IO.o\n",
            "a - SNESIM.o\n",
            "a - Utility.o\n",
            "make[1]: Leaving directory '/content/mpslib/mpslib'\n",
            "g++ -O3 -std=c++11 -static -Wl,--no-as-needed mps_genesim.cpp ENESIM_GENERAL.cpp mpslib/mpslib.a -o mps_genesim -I mpslib/ -lstdc++ -lpthread\n",
            "g++ -O3 -std=c++11 -static -Wl,--no-as-needed mps_snesim_list.cpp SNESIMList.cpp mpslib/mpslib.a -o mps_snesim_list -I mpslib/ -lstdc++ -lpthread\n",
            "g++ -O3 -std=c++11 -static -Wl,--no-as-needed mps_snesim_tree.cpp SNESIMTree.cpp mpslib/mpslib.a -o mps_snesim_tree -I mpslib/ -lstdc++ -lpthread\n",
            "/content/mpslib\n",
            "codeblocks\t\t  matlab\t       msvc2012\n",
            "configure.sh\t\t  mps_genesim\t       msvc2017\n",
            "CONTRIBUTING\t\t  mps_genesim.cpp      README.md\n",
            "COPYING.LESSER\t\t  mps_genesim.txt      scikit-mps\n",
            "doc\t\t\t  mpslib\t       SNESIMList.cpp\n",
            "ENESIM_GENERAL.cpp\t  mps_snesim_list      SNESIMList.h\n",
            "ENESIM_GENERAL.h\t  mps_snesim_list.cpp  SNESIMTree.cpp\n",
            "examples\t\t  mps_snesim_tree      SNESIMTree.h\n",
            "install_latest_mpslib.sh  mps_snesim_tree.cpp  ti\n",
            "Makefile\t\t  mps_snesim.txt\n"
          ],
          "name": "stdout"
        }
      ]
    },
    {
      "cell_type": "markdown",
      "metadata": {
        "id": "ij5u0gX8f7Uu",
        "colab_type": "text"
      },
      "source": [
        "### Install scikit mps (Pyhton interface to MPSlib)"
      ]
    },
    {
      "cell_type": "code",
      "metadata": {
        "id": "E2ibTQT4inY4",
        "colab_type": "code",
        "outputId": "fd92031c-0f11-4aee-e7bc-9488c97a878e",
        "colab": {
          "base_uri": "https://localhost:8080/",
          "height": 0
        }
      },
      "source": [
        "os.chdir('/content/mpslib/scikit-mps')\n",
        "!pip install -e ."
      ],
      "execution_count": 4,
      "outputs": [
        {
          "output_type": "stream",
          "text": [
            "Obtaining file:///content/mpslib/scikit-mps\n",
            "Requirement already satisfied: numpy>=1.0.2 in /usr/local/lib/python3.6/dist-packages (from scikit-mps==0.1.0) (1.16.3)\n",
            "Requirement already satisfied: matplotlib>=1.0.0 in /usr/local/lib/python3.6/dist-packages (from scikit-mps==0.1.0) (3.0.3)\n",
            "Requirement already satisfied: kiwisolver>=1.0.1 in /usr/local/lib/python3.6/dist-packages (from matplotlib>=1.0.0->scikit-mps==0.1.0) (1.1.0)\n",
            "Requirement already satisfied: cycler>=0.10 in /usr/local/lib/python3.6/dist-packages (from matplotlib>=1.0.0->scikit-mps==0.1.0) (0.10.0)\n",
            "Requirement already satisfied: pyparsing!=2.0.4,!=2.1.2,!=2.1.6,>=2.0.1 in /usr/local/lib/python3.6/dist-packages (from matplotlib>=1.0.0->scikit-mps==0.1.0) (2.4.0)\n",
            "Requirement already satisfied: python-dateutil>=2.1 in /usr/local/lib/python3.6/dist-packages (from matplotlib>=1.0.0->scikit-mps==0.1.0) (2.5.3)\n",
            "Requirement already satisfied: setuptools in /usr/local/lib/python3.6/dist-packages (from kiwisolver>=1.0.1->matplotlib>=1.0.0->scikit-mps==0.1.0) (41.0.1)\n",
            "Requirement already satisfied: six in /usr/local/lib/python3.6/dist-packages (from cycler>=0.10->matplotlib>=1.0.0->scikit-mps==0.1.0) (1.12.0)\n",
            "Installing collected packages: scikit-mps\n",
            "  Found existing installation: scikit-mps 0.1.0\n",
            "    Can't uninstall 'scikit-mps'. No files were found to uninstall.\n",
            "  Running setup.py develop for scikit-mps\n",
            "Successfully installed scikit-mps\n"
          ],
          "name": "stdout"
        }
      ]
    },
    {
      "cell_type": "markdown",
      "metadata": {
        "id": "ddDyOx6dkyUs",
        "colab_type": "text"
      },
      "source": [
        "### Install vista (for 3D plotting)"
      ]
    },
    {
      "cell_type": "code",
      "metadata": {
        "id": "ix7NE8Auk6m1",
        "colab_type": "code",
        "colab": {}
      },
      "source": [
        "#!pip install vista"
      ],
      "execution_count": 0,
      "outputs": []
    },
    {
      "cell_type": "markdown",
      "metadata": {
        "id": "60o5bfdpgsvM",
        "colab_type": "text"
      },
      "source": [
        "# MPSLIB IN PYTHON"
      ]
    },
    {
      "cell_type": "code",
      "metadata": {
        "id": "9iUgRDY-gbg6",
        "colab_type": "code",
        "colab": {}
      },
      "source": [
        "import mpslib as mps\n",
        "import numpy as np\n",
        "import matplotlib.pyplot as plt"
      ],
      "execution_count": 0,
      "outputs": []
    },
    {
      "cell_type": "code",
      "metadata": {
        "id": "VoZL9R2bgr2s",
        "colab_type": "code",
        "outputId": "6f03c77d-76c1-4b60-c2f1-1c9f4099d558",
        "colab": {
          "base_uri": "https://localhost:8080/",
          "height": 391
        }
      },
      "source": [
        "O = mps.mpslib(method='mps_snesim_tree',\n",
        "                    n_real = 4, verbose_level=-1, debug_level=-1)\n",
        "O.parameter_filename = 'mps_snesim.txt'\n",
        "O.par['n_cond']=36\n",
        "O.par['simulation_grid_size']=np.array([50,80,1])\n",
        "\n",
        "# show parameter setting\n",
        "O.par\n"
      ],
      "execution_count": 7,
      "outputs": [
        {
          "output_type": "execute_result",
          "data": {
            "text/plain": [
              "{'debug_level': -1,\n",
              " 'entropyfactor_simulation_grid': 4,\n",
              " 'grid_cell_size': array([1, 1, 1]),\n",
              " 'hard_data_fnam': 'hard.dat',\n",
              " 'hard_data_search_radius': 1,\n",
              " 'mask_fnam': 'mask.dat',\n",
              " 'n_cond': 36,\n",
              " 'n_max_cpdf_count': 1,\n",
              " 'n_min_node_count': 0,\n",
              " 'n_multiple_grids': 3,\n",
              " 'n_real': 4,\n",
              " 'n_threads': -1,\n",
              " 'origin': array([0., 0., 0.]),\n",
              " 'out_folder': '.',\n",
              " 'rseed': 1,\n",
              " 'shuffle_simulation_grid': 2,\n",
              " 'shuffle_ti_grid': 1,\n",
              " 'simulation_grid_size': array([50, 80,  1]),\n",
              " 'soft_data_categories': array([0, 1]),\n",
              " 'soft_data_fnam': 'soft.dat',\n",
              " 'template_size': array([8, 7, 1]),\n",
              " 'ti_fnam': 'ti.dat'}"
            ]
          },
          "metadata": {
            "tags": []
          },
          "execution_count": 7
        }
      ]
    },
    {
      "cell_type": "markdown",
      "metadata": {
        "id": "d6SBCNkCf2RY",
        "colab_type": "text"
      },
      "source": [
        "### Load a training image"
      ]
    },
    {
      "cell_type": "code",
      "metadata": {
        "id": "ypwUx5DBgV2u",
        "colab_type": "code",
        "outputId": "771eec73-cc9f-415f-ad48-b5b6aad590bf",
        "colab": {
          "base_uri": "https://localhost:8080/",
          "height": 303
        }
      },
      "source": [
        "TI, TI_filename = mps.trainingimages.strebelle(di=2, coarse3d=1)\n",
        "TI, TI_filename = mps.trainingimages.checkerboard2()\n",
        "#TI, TI_filename = mps.trainingimages.rot90()\n",
        "O.ti = TI\n",
        "\n",
        "plt.imshow(O.ti[:,:,0].T)"
      ],
      "execution_count": 8,
      "outputs": [
        {
          "output_type": "stream",
          "text": [
            "Beginning download of http://www.trainingimages.org/uploads/3/4/7/0/34703305/ti_strebelle.sgems to ti_strebelle.dat\n"
          ],
          "name": "stdout"
        },
        {
          "output_type": "execute_result",
          "data": {
            "text/plain": [
              "<matplotlib.image.AxesImage at 0x7ffa6b013358>"
            ]
          },
          "metadata": {
            "tags": []
          },
          "execution_count": 8
        },
        {
          "output_type": "display_data",
          "data": {
            "image/png": "[encoded data removed]",
            "text/plain": [
              "<Figure size 432x288 with 1 Axes>"
            ]
          },
          "metadata": {
            "tags": []
          }
        }
      ]
    },
    {
      "cell_type": "markdown",
      "metadata": {
        "id": "BOm6ElYHfzKf",
        "colab_type": "text"
      },
      "source": [
        "Run MPSLIB"
      ]
    },
    {
      "cell_type": "code",
      "metadata": {
        "id": "9pZ9M_jrgxZc",
        "colab_type": "code",
        "outputId": "bb12dbb1-9fbb-4b68-db76-b2f045e16755",
        "colab": {
          "base_uri": "https://localhost:8080/",
          "height": 707
        }
      },
      "source": [
        "O.ti = TI\n",
        "O.run_parallel()\n",
        "#O.run()\n",
        "\n",
        "\n",
        "# plot some results\n",
        "O.plot_reals()\n",
        "O.plot_etype()"
      ],
      "execution_count": 9,
      "outputs": [
        {
          "output_type": "stream",
          "text": [
            "parallel: using 2 threads to simulate 4 realizations\n",
            "parallel: with up to 2 relizations per thread\n",
            "parallel: Using 2 of max 2 threads\n",
            "__name__ = mpslib.mpslib\n",
            "Thread:000, nr=2\n",
            "Thread:001, nr=2\n",
            "parallel job done. Collecting data from threads\n",
            "parallel: collected 4 realizations\n"
          ],
          "name": "stdout"
        },
        {
          "output_type": "display_data",
          "data": {
            "image/png": "[encoded data removed]",
            "text/plain": [
              "<Figure size 432x288 with 4 Axes>"
            ]
          },
          "metadata": {
            "tags": []
          }
        },
        {
          "output_type": "display_data",
          "data": {
            "image/png": "[encoded data removed]",
            "text/plain": [
              "<Figure size 432x288 with 4 Axes>"
            ]
          },
          "metadata": {
            "tags": []
          }
        }
      ]
    },
    {
      "cell_type": "code",
      "metadata": {
        "id": "YHneXKN0sVCN",
        "colab_type": "code",
        "colab": {}
      },
      "source": [
        ""
      ],
      "execution_count": 0,
      "outputs": []
    }
  ]
}