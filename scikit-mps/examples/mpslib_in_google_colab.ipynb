{
  "nbformat": 4,
  "nbformat_minor": 0,
  "metadata": {
    "colab": {
      "name": "colab_mpslib_test.ipynb",
      "provenance": [],
      "collapsed_sections": [],
      "toc_visible": true
    },
    "kernelspec": {
      "name": "python3",
      "display_name": "Python 3"
    }
  },
  "cells": [
    {
      "cell_type": "markdown",
      "metadata": {
        "id": "KQ2jquxS0Ebo",
        "colab_type": "text"
      },
      "source": [
        "## Install MPSlib (if not allready installed)\n"
      ]
    },
    {
      "cell_type": "code",
      "metadata": {
        "id": "8fYtS02FylRY",
        "colab_type": "code",
        "outputId": "e76f913b-b6c5-423e-cd96-12f163b825c7",
        "colab": {
          "base_uri": "https://localhost:8080/",
          "height": 0
        }
      },
      "source": [
        "module_name='mpslib'\n",
        "try:\n",
        "    __import__(module_name)\n",
        "    print('%s allready installed. skipping installation.' % module_name)\n",
        "    exe_folder = ''\n",
        "        \n",
        "except ImportError:\n",
        "    import sys\n",
        "    is_colab = 'google.colab' in sys.modules\n",
        "    print (is_colab)\n",
        "    if is_colab:\n",
        "        import os\n",
        "        os.chdir('/content')\n",
        "        print('%s cannot be loaded. trying to install it.' % module_name)\n",
        "        !curl -O https://raw.githubusercontent.com/ergosimulation/mpslib/master/install_latest_mpslib.sh\n",
        "        !sh ./install_latest_mpslib.sh\n",
        "        os.chdir('/content')\n",
        "        exe_folder = '/content/mpslib'\n",
        "    else:\n",
        "        print('Pleas install MPSlib and scikit-mps from http://github.com/ergosimulation/mpslib/')\n",
        "    \n",
        "import sys\n",
        "is_colab = 'google.colab' in sys.modules\n",
        "if is_colab:\n",
        "    exe_folder = '/content/mpslib'\n",
        "else:\n",
        "  exe_folder = ''\n",
        "\n",
        "print(\"Using MPSlib installed in %s \" % exe_folder)\n"
      ],
      "execution_count": 1,
      "outputs": [
        {
          "output_type": "stream",
          "text": [
            "True\n",
            "mpslib cannot be loaded. trying to install it.\n",
            "  % Total    % Received % Xferd  Average Speed   Time    Time     Time  Current\n",
            "                                 Dload  Upload   Total   Spent    Left  Speed\n",
            "100   367  100   367    0     0   2005      0 --:--:-- --:--:-- --:--:--  1994\n",
            "Cloning into 'mpslib'...\n",
            "remote: Enumerating objects: 330, done.\u001b[K\n",
            "remote: Counting objects: 100% (330/330), done.\u001b[K\n",
            "remote: Compressing objects: 100% (223/223), done.\u001b[K\n",
            "remote: Total 3384 (delta 224), reused 187 (delta 107), pack-reused 3054\n",
            "Receiving objects: 100% (3384/3384), 24.42 MiB | 25.64 MiB/s, done.\n",
            "Resolving deltas: 100% (2362/2362), done.\n",
            "make -C mpslib\n",
            "make[1]: Entering directory '/content/mpslib/mpslib'\n",
            "g++ -o ENESIM.o -I. -O3 -march=native -std=c++11 -c ENESIM.cpp\n",
            "g++ -o Coords3D.o -I. -O3 -march=native -std=c++11 -c Coords3D.cpp\n",
            "g++ -o MPSAlgorithm.o -I. -O3 -march=native -std=c++11 -c MPSAlgorithm.cpp\n",
            "g++ -o Coords4D.o -I. -O3 -march=native -std=c++11 -c Coords4D.cpp\n",
            "g++ -o IO.o -I. -O3 -march=native -std=c++11 -c IO.cpp\n",
            "g++ -o SNESIM.o -I. -O3 -march=native -std=c++11 -c SNESIM.cpp\n",
            "g++ -o Utility.o -I. -O3 -march=native -std=c++11 -c Utility.cpp\n",
            "ar rsv mpslib.a ENESIM.o Coords3D.o MPSAlgorithm.o Coords4D.o IO.o SNESIM.o Utility.o\n",
            "ar: creating mpslib.a\n",
            "a - ENESIM.o\n",
            "a - Coords3D.o\n",
            "a - MPSAlgorithm.o\n",
            "a - Coords4D.o\n",
            "a - IO.o\n",
            "a - SNESIM.o\n",
            "a - Utility.o\n",
            "make[1]: Leaving directory '/content/mpslib/mpslib'\n",
            "g++ -O3 -march=native -std=c++11 -Wl,--no-as-needed mps_genesim.cpp ENESIM_GENERAL.cpp mpslib/mpslib.a -o mps_genesim -I mpslib/ -lstdc++ -lpthread\n",
            "g++ -O3 -march=native -std=c++11 -Wl,--no-as-needed mps_snesim_list.cpp SNESIMList.cpp mpslib/mpslib.a -o mps_snesim_list -I mpslib/ -lstdc++ -lpthread\n",
            "g++ -O3 -march=native -std=c++11 -Wl,--no-as-needed mps_snesim_tree.cpp SNESIMTree.cpp mpslib/mpslib.a -o mps_snesim_tree -I mpslib/ -lstdc++ -lpthread\n",
            "\n",
            "Linux\n",
            "x86_64\n",
            "Processing /content/mpslib/scikit-mps\n",
            "Requirement already satisfied: numpy>=1.0.2 in /usr/local/lib/python3.6/dist-packages (from scikit-mps==0.1.0) (1.17.5)\n",
            "Requirement already satisfied: matplotlib>=1.0.0 in /usr/local/lib/python3.6/dist-packages (from scikit-mps==0.1.0) (3.1.2)\n",
            "Collecting pyvista>0.21.0\n",
            "\u001b[?25l  Downloading https://files.pythonhosted.org/packages/82/8c/c0fdf25b0cf8408e5979e0cec404fc7c945cc262b23efe47d4c9d933d3a6/pyvista-0.23.0.tar.gz (1.2MB)\n",
            "\u001b[K     |████████████████████████████████| 1.2MB 2.8MB/s \n",
            "\u001b[?25hRequirement already satisfied: cycler>=0.10 in /usr/local/lib/python3.6/dist-packages (from matplotlib>=1.0.0->scikit-mps==0.1.0) (0.10.0)\n",
            "Requirement already satisfied: kiwisolver>=1.0.1 in /usr/local/lib/python3.6/dist-packages (from matplotlib>=1.0.0->scikit-mps==0.1.0) (1.1.0)\n",
            "Requirement already satisfied: python-dateutil>=2.1 in /usr/local/lib/python3.6/dist-packages (from matplotlib>=1.0.0->scikit-mps==0.1.0) (2.6.1)\n",
            "Requirement already satisfied: pyparsing!=2.0.4,!=2.1.2,!=2.1.6,>=2.0.1 in /usr/local/lib/python3.6/dist-packages (from matplotlib>=1.0.0->scikit-mps==0.1.0) (2.4.6)\n",
            "Requirement already satisfied: imageio in /usr/local/lib/python3.6/dist-packages (from pyvista>0.21.0->scikit-mps==0.1.0) (2.4.1)\n",
            "Collecting appdirs\n",
            "  Downloading https://files.pythonhosted.org/packages/56/eb/810e700ed1349edde4cbdc1b2a21e28cdf115f9faf263f6bbf8447c1abf3/appdirs-1.4.3-py2.py3-none-any.whl\n",
            "Collecting scooby>=0.2.2\n",
            "  Downloading https://files.pythonhosted.org/packages/00/cc/3b7d955f896f06bd3143129702866ab7fe5ddfc3d1256c4fba3125378392/scooby-0.5.0.tar.gz\n",
            "Collecting meshio>=3.3.0\n",
            "\u001b[?25l  Downloading https://files.pythonhosted.org/packages/9f/07/cf58a295a06f4b672bfa9b87e7f34fc003d39f7e0f4fa6ae495f631d71dd/meshio-3.3.1-py3-none-any.whl (106kB)\n",
            "\u001b[K     |████████████████████████████████| 112kB 52.5MB/s \n",
            "\u001b[?25hCollecting vtk\n",
            "\u001b[?25l  Downloading https://files.pythonhosted.org/packages/22/f5/30e11e1ad21701e1cd185b046979107930419a74a5602c6b899dc8523fe4/vtk-8.1.2-cp36-cp36m-manylinux1_x86_64.whl (48.9MB)\n",
            "\u001b[K     |████████████████████████████████| 48.9MB 89kB/s \n",
            "\u001b[?25hRequirement already satisfied: six in /usr/local/lib/python3.6/dist-packages (from cycler>=0.10->matplotlib>=1.0.0->scikit-mps==0.1.0) (1.12.0)\n",
            "Requirement already satisfied: setuptools in /usr/local/lib/python3.6/dist-packages (from kiwisolver>=1.0.1->matplotlib>=1.0.0->scikit-mps==0.1.0) (42.0.2)\n",
            "Requirement already satisfied: pillow in /usr/local/lib/python3.6/dist-packages (from imageio->pyvista>0.21.0->scikit-mps==0.1.0) (6.2.2)\n",
            "Building wheels for collected packages: scikit-mps, pyvista, scooby\n",
            "  Building wheel for scikit-mps (setup.py) ... \u001b[?25l\u001b[?25hdone\n",
            "  Created wheel for scikit-mps: filename=scikit_mps-0.1.0-py2.py3-none-any.whl size=18561 sha256=9a55195b81ea99bd5144753b512210dcab01310a307431b150230dfce0c9c852\n",
            "  Stored in directory: /root/.cache/pip/wheels/32/2d/e9/0a50b3df75fa8f6d8704e0f8f4a88817ea4d496c448cd1f786\n",
            "  Building wheel for pyvista (setup.py) ... \u001b[?25l\u001b[?25hdone\n",
            "  Created wheel for pyvista: filename=pyvista-0.23.0-cp36-none-any.whl size=1153057 sha256=f8462478e1a303576b06518b5f72cc4f92af20cbbf7772e725920b49c745be86\n",
            "  Stored in directory: /root/.cache/pip/wheels/f6/d5/ea/3f39a4f3aea78b36fff2648807427586ca77133956ec1203bc\n",
            "  Building wheel for scooby (setup.py) ... \u001b[?25l\u001b[?25hdone\n",
            "  Created wheel for scooby: filename=scooby-0.5.0-cp36-none-any.whl size=12203 sha256=1542cdec3fe5aec7dab954b13a01a6f76add1d2fc5ab148bbfff950ffee2a10f\n",
            "  Stored in directory: /root/.cache/pip/wheels/41/51/98/624c36ca1b65c4fd3ecdbb072c5ccc2386288b08835dee6813\n",
            "Successfully built scikit-mps pyvista scooby\n",
            "Installing collected packages: appdirs, scooby, meshio, vtk, pyvista, scikit-mps\n",
            "Successfully installed appdirs-1.4.3 meshio-3.3.1 pyvista-0.23.0 scikit-mps-0.1.0 scooby-0.5.0 vtk-8.1.2\n",
            "Using MPSlib installed in /content/mpslib \n"
          ],
          "name": "stdout"
        }
      ]
    },
    {
      "cell_type": "code",
      "metadata": {
        "id": "hqoD4oah8rea",
        "colab_type": "code",
        "colab": {}
      },
      "source": [
        "import mpslib as mps\n",
        "import matplotlib.pyplot as plt\n",
        "import numpy as np"
      ],
      "execution_count": 0,
      "outputs": []
    },
    {
      "cell_type": "markdown",
      "metadata": {
        "id": "EjbK9_ZHp1JF",
        "colab_type": "text"
      },
      "source": [
        "## Select traning image"
      ]
    },
    {
      "cell_type": "code",
      "metadata": {
        "id": "k3j96wcamuG7",
        "colab_type": "code",
        "colab": {
          "base_uri": "https://localhost:8080/",
          "height": 302
        },
        "outputId": "31e29f36-fa76-4998-b01b-eaa80bc6aecf"
      },
      "source": [
        "\n",
        "TI, TI_filename = mps.trainingimages.strebelle(di=2, coarse3d=1)\n",
        "#TI, TI_filename = mps.trainingimages.checkerboard2()\n",
        "#TI, TI_filename = mps.trainingimages.rot90()\n",
        "plt.imshow(TI[:,:,0].T)\n",
        "#mps.trainingimages.ti_plot_all()"
      ],
      "execution_count": 3,
      "outputs": [
        {
          "output_type": "stream",
          "text": [
            "Beginning download of http://www.trainingimages.org/uploads/3/4/7/0/34703305/ti_strebelle.sgems to ti_strebelle.dat\n"
          ],
          "name": "stdout"
        },
        {
          "output_type": "execute_result",
          "data": {
            "text/plain": [
              "<matplotlib.image.AxesImage at 0x7f569706c7f0>"
            ]
          },
          "metadata": {
            "tags": []
          },
          "execution_count": 3
        },
        {
          "output_type": "display_data",
          "data": {
            "image/png": "[encoded data removed]",
            "text/plain": [
              "<Figure size 432x288 with 1 Axes>"
            ]
          },
          "metadata": {
            "tags": []
          }
        }
      ]
    },
    {
      "cell_type": "markdown",
      "metadata": {
        "id": "ScSHgE88p5Y0",
        "colab_type": "text"
      },
      "source": [
        "## Setup MPSlib"
      ]
    },
    {
      "cell_type": "code",
      "metadata": {
        "id": "ZuGmx5n1m5e1",
        "colab_type": "code",
        "colab": {}
      },
      "source": [
        "O = mps.mpslib(method='mps_snesim_tree',\n",
        "                    mpslib_exe_folder=exe_folder,\n",
        "                    verbose_level=-1, debug_level=-1)\n",
        "#O = mps.mpslib(method='mps_genesim')\n",
        "O.parameter_filename = 'mps.txt'\n",
        "O.par['n_real']=39\n",
        "O.par['n_cond']=36\n",
        "O.par['template_size']=np.array([[10,5],[10,5],[1,1]])\n",
        "O.par['origin']=np.array([0,0,0])\n",
        "O.par['simulation_grid_size']=np.array([40,20,1])\n",
        "\n",
        "# hard data\n",
        "O.d_hard = np.array([[ 10, 5, 0, 1],\n",
        "                       [ 30, 15, 0, 0]])\n",
        "\n",
        "# soft data\n",
        "O.d_soft = np.array([[ 10, 15, 0, 0.9, 0.1],\n",
        "                       [ 30, 5, 0, 0.9, 0.1]])"
      ],
      "execution_count": 0,
      "outputs": []
    },
    {
      "cell_type": "markdown",
      "metadata": {
        "id": "T9zCWRbop8ir",
        "colab_type": "text"
      },
      "source": [
        "## Run MPSlib"
      ]
    },
    {
      "cell_type": "code",
      "metadata": {
        "id": "ZkayqiYFnC0l",
        "colab_type": "code",
        "colab": {
          "base_uri": "https://localhost:8080/",
          "height": 187
        },
        "outputId": "2f446b65-9efd-4ac9-e69d-257c709c2a7d"
      },
      "source": [
        "O.ti = TI\n",
        "# Serial \n",
        "#O.run_par()\n",
        "# Parallel\n",
        "O.run_parallel()"
      ],
      "execution_count": 5,
      "outputs": [
        {
          "output_type": "stream",
          "text": [
            "parallel: using 2 threads to simulate 39 realizations\n",
            "parallel: with up to 20 relizations per thread\n",
            "parallel: Using 2 of max 2 threads\n",
            "__name__ = mpslib.mpslib\n",
            "Thread:000, nr=20\n",
            "Thread:001, nr=19\n",
            "parallel job done. Collecting data from threads\n",
            "parallel: collected 39 realizations\n"
          ],
          "name": "stdout"
        },
        {
          "output_type": "execute_result",
          "data": {
            "text/plain": [
              "[<mpslib.mpslib.mpslib at 0x7f5697746940>,\n",
              " <mpslib.mpslib.mpslib at 0x7f5697746c88>]"
            ]
          },
          "metadata": {
            "tags": []
          },
          "execution_count": 5
        }
      ]
    },
    {
      "cell_type": "markdown",
      "metadata": {
        "id": "fymZDt74p_w8",
        "colab_type": "text"
      },
      "source": [
        "## Plot realizations and E-types"
      ]
    },
    {
      "cell_type": "code",
      "metadata": {
        "id": "b6ljKeQsnFXl",
        "colab_type": "code",
        "colab": {
          "base_uri": "https://localhost:8080/",
          "height": 516
        },
        "outputId": "af196aad-8f00-4155-e628-026613508205"
      },
      "source": [
        "O.plot_reals()\n",
        "O.plot_etype()"
      ],
      "execution_count": 6,
      "outputs": [
        {
          "output_type": "display_data",
          "data": {
            "image/png": "[encoded data removed]",
            "text/plain": [
              "<Figure size 432x288 with 25 Axes>"
            ]
          },
          "metadata": {
            "tags": []
          }
        },
        {
          "output_type": "display_data",
          "data": {
            "image/png": "[encoded data removed]",
            "text/plain": [
              "<Figure size 432x288 with 4 Axes>"
            ]
          },
          "metadata": {
            "tags": []
          }
        }
      ]
    }
  ]
}