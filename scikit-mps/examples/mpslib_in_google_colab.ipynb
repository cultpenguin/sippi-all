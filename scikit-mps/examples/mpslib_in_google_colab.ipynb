{
 "cells": [
  {
   "cell_type": "markdown",
   "metadata": {
    "colab_type": "text",
    "id": "rMCeH4O_jlZg"
   },
   "source": [
    "# MPSLIB in Google Colab\n",
    "This is a simple exmaple of running MPSLIB online in Google Colab"
   ]
  },
  {
   "cell_type": "markdown",
   "metadata": {
    "colab_type": "text",
    "id": "9lWUZXe2oGjj"
   },
   "source": [
    "## INSTALL MPSLIB (simple) (only needed once on google colab)"
   ]
  },
  {
   "cell_type": "markdown",
   "metadata": {
    "colab_type": "text",
    "id": "Mx4XBboKnb0i"
   },
   "source": []
  },
  {
   "cell_type": "code",
   "execution_count": 1,
   "metadata": {
    "colab": {
     "base_uri": "https://localhost:8080/",
     "height": 34
    },
    "colab_type": "code",
    "id": "w9IL9AA_n3Q3",
    "outputId": "e624d6f3-69ce-4b57-a83f-e9a952673bf2"
   },
   "outputs": [
    {
     "name": "stdout",
     "output_type": "stream",
     "text": [
      "mpslib allready installed. skipping installation.\n"
     ]
    }
   ],
   "source": [
    "module_name='mpslib'\n",
    "try:\n",
    "    __import__(module_name)\n",
    "    print('%s allready installed. skipping installation.' % module_name)\n",
    "        \n",
    "except ImportError:\n",
    "    print('%s cannot be loaded. trying to install it.' % module_name)\n",
    "    #curl -O https://raw.githubusercontent.com/ergosimulation/mpslib/master/install_latest_mpslib.sh\n",
    "    #sh ./install_latest_mpslib.sh\n",
    "        "
   ]
  },
  {
   "cell_type": "markdown",
   "metadata": {
    "colab_type": "text",
    "id": "y8bVpm11gCLw"
   },
   "source": [
    "##INSTALL MPSLIB (only needed once on google colab)"
   ]
  },
  {
   "cell_type": "code",
   "execution_count": 0,
   "metadata": {
    "colab": {},
    "colab_type": "code",
    "id": "VbAykVdWi_BI"
   },
   "outputs": [],
   "source": [
    "import os"
   ]
  },
  {
   "cell_type": "code",
   "execution_count": 3,
   "metadata": {
    "colab": {
     "base_uri": "https://localhost:8080/",
     "height": 0
    },
    "colab_type": "code",
    "id": "_59fgiyOftWb",
    "outputId": "b5c74500-74e2-4e39-efaa-ec6561a45d8d"
   },
   "outputs": [
    {
     "name": "stdout",
     "output_type": "stream",
     "text": [
      "Cloning into 'mpslib'...\n",
      "remote: Enumerating objects: 371, done.\u001b[K\n",
      "remote: Counting objects: 100% (371/371), done.\u001b[K\n",
      "remote: Compressing objects: 100% (269/269), done.\u001b[K\n",
      "remote: Total 3023 (delta 234), reused 223 (delta 101), pack-reused 2652\u001b[K\n",
      "Receiving objects: 100% (3023/3023), 23.91 MiB | 21.93 MiB/s, done.\n",
      "Resolving deltas: 100% (2079/2079), done.\n",
      "rm -f *.o mps mpslib/*.o mpslib/mpslib.a\n",
      "make -C mpslib\n",
      "make[1]: Entering directory '/content/mpslib/mpslib'\n",
      "g++ -o ENESIM.o -I. -O3 -std=c++11 -static -Wl,--no-as-needed -c ENESIM.cpp\n",
      "g++ -o Coords3D.o -I. -O3 -std=c++11 -static -Wl,--no-as-needed -c Coords3D.cpp\n",
      "g++ -o MPSAlgorithm.o -I. -O3 -std=c++11 -static -Wl,--no-as-needed -c MPSAlgorithm.cpp\n",
      "g++ -o Coords4D.o -I. -O3 -std=c++11 -static -Wl,--no-as-needed -c Coords4D.cpp\n",
      "g++ -o IO.o -I. -O3 -std=c++11 -static -Wl,--no-as-needed -c IO.cpp\n",
      "g++ -o SNESIM.o -I. -O3 -std=c++11 -static -Wl,--no-as-needed -c SNESIM.cpp\n",
      "g++ -o Utility.o -I. -O3 -std=c++11 -static -Wl,--no-as-needed -c Utility.cpp\n",
      "ar rsv mpslib.a ENESIM.o Coords3D.o MPSAlgorithm.o Coords4D.o IO.o SNESIM.o Utility.o\n",
      "ar: creating mpslib.a\n",
      "a - ENESIM.o\n",
      "a - Coords3D.o\n",
      "a - MPSAlgorithm.o\n",
      "a - Coords4D.o\n",
      "a - IO.o\n",
      "a - SNESIM.o\n",
      "a - Utility.o\n",
      "make[1]: Leaving directory '/content/mpslib/mpslib'\n",
      "g++ -O3 -std=c++11 -static -Wl,--no-as-needed mps_genesim.cpp ENESIM_GENERAL.cpp mpslib/mpslib.a -o mps_genesim -I mpslib/ -lstdc++ -lpthread\n",
      "g++ -O3 -std=c++11 -static -Wl,--no-as-needed mps_snesim_list.cpp SNESIMList.cpp mpslib/mpslib.a -o mps_snesim_list -I mpslib/ -lstdc++ -lpthread\n",
      "g++ -O3 -std=c++11 -static -Wl,--no-as-needed mps_snesim_tree.cpp SNESIMTree.cpp mpslib/mpslib.a -o mps_snesim_tree -I mpslib/ -lstdc++ -lpthread\n",
      "/content/mpslib\n",
      "codeblocks\t\t  matlab\t       msvc2012\n",
      "configure.sh\t\t  mps_genesim\t       msvc2017\n",
      "CONTRIBUTING\t\t  mps_genesim.cpp      README.md\n",
      "COPYING.LESSER\t\t  mps_genesim.txt      scikit-mps\n",
      "doc\t\t\t  mpslib\t       SNESIMList.cpp\n",
      "ENESIM_GENERAL.cpp\t  mps_snesim_list      SNESIMList.h\n",
      "ENESIM_GENERAL.h\t  mps_snesim_list.cpp  SNESIMTree.cpp\n",
      "examples\t\t  mps_snesim_tree      SNESIMTree.h\n",
      "install_latest_mpslib.sh  mps_snesim_tree.cpp  ti\n",
      "Makefile\t\t  mps_snesim.txt\n"
     ]
    }
   ],
   "source": [
    "# Get code from GITHUB\n",
    "os.chdir('/content')\n",
    "!rm -fr mpslib && git clone https://github.com/ergosimulation/mpslib.git\n",
    "# Compile\n",
    "os.chdir('/content/mpslib')\n",
    "!make clean\n",
    "!make\n",
    "!pwd\n",
    "!ls"
   ]
  },
  {
   "cell_type": "markdown",
   "metadata": {
    "colab_type": "text",
    "id": "ij5u0gX8f7Uu"
   },
   "source": [
    "### Install scikit mps (Pyhton interface to MPSlib)"
   ]
  },
  {
   "cell_type": "code",
   "execution_count": 4,
   "metadata": {
    "colab": {
     "base_uri": "https://localhost:8080/",
     "height": 0
    },
    "colab_type": "code",
    "id": "E2ibTQT4inY4",
    "outputId": "fd92031c-0f11-4aee-e7bc-9488c97a878e"
   },
   "outputs": [
    {
     "name": "stdout",
     "output_type": "stream",
     "text": [
      "Obtaining file:///content/mpslib/scikit-mps\n",
      "Requirement already satisfied: numpy>=1.0.2 in /usr/local/lib/python3.6/dist-packages (from scikit-mps==0.1.0) (1.16.3)\n",
      "Requirement already satisfied: matplotlib>=1.0.0 in /usr/local/lib/python3.6/dist-packages (from scikit-mps==0.1.0) (3.0.3)\n",
      "Requirement already satisfied: kiwisolver>=1.0.1 in /usr/local/lib/python3.6/dist-packages (from matplotlib>=1.0.0->scikit-mps==0.1.0) (1.1.0)\n",
      "Requirement already satisfied: cycler>=0.10 in /usr/local/lib/python3.6/dist-packages (from matplotlib>=1.0.0->scikit-mps==0.1.0) (0.10.0)\n",
      "Requirement already satisfied: pyparsing!=2.0.4,!=2.1.2,!=2.1.6,>=2.0.1 in /usr/local/lib/python3.6/dist-packages (from matplotlib>=1.0.0->scikit-mps==0.1.0) (2.4.0)\n",
      "Requirement already satisfied: python-dateutil>=2.1 in /usr/local/lib/python3.6/dist-packages (from matplotlib>=1.0.0->scikit-mps==0.1.0) (2.5.3)\n",
      "Requirement already satisfied: setuptools in /usr/local/lib/python3.6/dist-packages (from kiwisolver>=1.0.1->matplotlib>=1.0.0->scikit-mps==0.1.0) (41.0.1)\n",
      "Requirement already satisfied: six in /usr/local/lib/python3.6/dist-packages (from cycler>=0.10->matplotlib>=1.0.0->scikit-mps==0.1.0) (1.12.0)\n",
      "Installing collected packages: scikit-mps\n",
      "  Found existing installation: scikit-mps 0.1.0\n",
      "    Can't uninstall 'scikit-mps'. No files were found to uninstall.\n",
      "  Running setup.py develop for scikit-mps\n",
      "Successfully installed scikit-mps\n"
     ]
    }
   ],
   "source": [
    "os.chdir('/content/mpslib/scikit-mps')\n",
    "!pip install -e ."
   ]
  },
  {
   "cell_type": "markdown",
   "metadata": {
    "colab_type": "text",
    "id": "ddDyOx6dkyUs"
   },
   "source": [
    "### Install vista (for 3D plotting)"
   ]
  },
  {
   "cell_type": "code",
   "execution_count": 0,
   "metadata": {
    "colab": {},
    "colab_type": "code",
    "id": "ix7NE8Auk6m1"
   },
   "outputs": [],
   "source": [
    "#!pip install vista"
   ]
  },
  {
   "cell_type": "markdown",
   "metadata": {
    "colab_type": "text",
    "id": "60o5bfdpgsvM"
   },
   "source": [
    "# MPSLIB IN PYTHON"
   ]
  },
  {
   "cell_type": "code",
   "execution_count": 2,
   "metadata": {
    "colab": {},
    "colab_type": "code",
    "id": "9iUgRDY-gbg6"
   },
   "outputs": [],
   "source": [
    "import mpslib as mps\n",
    "import numpy as np\n",
    "import matplotlib.pyplot as plt"
   ]
  },
  {
   "cell_type": "markdown",
   "metadata": {
    "colab_type": "text",
    "id": "d6SBCNkCf2RY"
   },
   "source": [
    "### Load a training image"
   ]
  },
  {
   "cell_type": "code",
   "execution_count": 12,
   "metadata": {
    "colab": {
     "base_uri": "https://localhost:8080/",
     "height": 303
    },
    "colab_type": "code",
    "id": "ypwUx5DBgV2u",
    "outputId": "771eec73-cc9f-415f-ad48-b5b6aad590bf"
   },
   "outputs": [
    {
     "data": {
      "text/plain": [
       "<matplotlib.image.AxesImage at 0x2a850d0af28>"
      ]
     },
     "execution_count": 12,
     "metadata": {},
     "output_type": "execute_result"
    },
    {
     "data": {
      "image/png": "[encoded data removed]",
      "text/plain": [
       "<Figure size 432x288 with 1 Axes>"
      ]
     },
     "metadata": {
      "needs_background": "light"
     },
     "output_type": "display_data"
    }
   ],
   "source": [
    "TI, TI_filename = mps.trainingimages.strebelle(di=2, coarse3d=1)\n",
    "#TI, TI_filename = mps.trainingimages.checkerboard2()\n",
    "#TI, TI_filename = mps.trainingimages.rot90()\n",
    "\n",
    "plt.imshow(TI[:,:,0].T)"
   ]
  },
  {
   "cell_type": "markdown",
   "metadata": {},
   "source": [
    "### Setup msplib"
   ]
  },
  {
   "cell_type": "code",
   "execution_count": 20,
   "metadata": {
    "colab": {
     "base_uri": "https://localhost:8080/",
     "height": 391
    },
    "colab_type": "code",
    "id": "VoZL9R2bgr2s",
    "outputId": "6f03c77d-76c1-4b60-c2f1-1c9f4099d558"
   },
   "outputs": [
    {
     "data": {
      "text/plain": [
       "{'n_real': 100,\n",
       " 'rseed': 1,\n",
       " 'n_max_cpdf_count': 1,\n",
       " 'out_folder': '.',\n",
       " 'ti_fnam': 'ti.dat',\n",
       " 'simulation_grid_size': array([40, 20,  1]),\n",
       " 'origin': array([0, 0, 0]),\n",
       " 'grid_cell_size': array([1, 1, 1]),\n",
       " 'mask_fnam': 'mask.dat',\n",
       " 'hard_data_fnam': 'hard.dat',\n",
       " 'shuffle_simulation_grid': 2,\n",
       " 'entropyfactor_simulation_grid': 4,\n",
       " 'shuffle_ti_grid': 1,\n",
       " 'hard_data_search_radius': 1,\n",
       " 'soft_data_categories': array([0, 1]),\n",
       " 'soft_data_fnam': 'soft.dat',\n",
       " 'n_threads': -1,\n",
       " 'debug_level': -1,\n",
       " 'n_cond': 36,\n",
       " 'n_cond_soft': 1,\n",
       " 'n_max_ite': 1000000,\n",
       " 'distance_measure': 1,\n",
       " 'distance_min': 0,\n",
       " 'distance_pow': 1,\n",
       " 'colocate_dimension': 0,\n",
       " 'max_search_radius': 10000000,\n",
       " 'max_search_radius_soft': 10000000,\n",
       " 'template_size': array([[10,  5],\n",
       "        [10,  5],\n",
       "        [ 1,  1]])}"
      ]
     },
     "execution_count": 20,
     "metadata": {},
     "output_type": "execute_result"
    }
   ],
   "source": [
    "O = mps.mpslib(method='mps_snesim_tree',\n",
    "                    verbose_level=-1, debug_level=-1)\n",
    "O = mps.mpslib(method='mps_genesim')\n",
    "O.parameter_filename = 'mps.txt'\n",
    "O.par['n_real']=100\n",
    "O.par['n_cond']=36\n",
    "O.par['template_size']=np.array([[10,5],[10,5],[1,1]])\n",
    "O.par['origin']=np.array([0,0,0])\n",
    "O.par['simulation_grid_size']=np.array([40,20,1])\n",
    "\n",
    "# hard data\n",
    "O.d_hard = np.array([[ 10, 5, 0, 1],\n",
    "                       [ 30, 15, 0, 0]])\n",
    "\n",
    "# soft data\n",
    "O.d_soft = np.array([[ 10, 15, 0, 0.9, 0.1],\n",
    "                       [ 30, 5, 0, 0.9, 0.1]])\n",
    "\n",
    "\n",
    "# show parameter setting\n",
    "O.par\n"
   ]
  },
  {
   "cell_type": "markdown",
   "metadata": {
    "colab_type": "text",
    "id": "BOm6ElYHfzKf"
   },
   "source": [
    "###Run MPSLIB"
   ]
  },
  {
   "cell_type": "code",
   "execution_count": 19,
   "metadata": {
    "colab": {
     "base_uri": "https://localhost:8080/",
     "height": 707
    },
    "colab_type": "code",
    "id": "9pZ9M_jrgxZc",
    "outputId": "bb12dbb1-9fbb-4b68-db76-b2f045e16755"
   },
   "outputs": [
    {
     "name": "stdout",
     "output_type": "stream",
     "text": [
      "parallel: using 7 threads to simulate 100 realizations\n",
      "parallel: with up to 15 relizations per thread\n",
      "parallel: Using 7 of max 7 threads\n",
      "__name__ = mpslib.mpslib\n"
     ]
    },
    {
     "ename": "Exception",
     "evalue": "unknown method type: genesim",
     "output_type": "error",
     "traceback": [
      "\u001b[1;31m---------------------------------------------------------------------------\u001b[0m",
      "\u001b[1;31mRemoteTraceback\u001b[0m                           Traceback (most recent call last)",
      "\u001b[1;31mRemoteTraceback\u001b[0m: \n\"\"\"\nTraceback (most recent call last):\n  File \"C:\\Users\\thoma\\Anaconda3\\lib\\multiprocessing\\pool.py\", line 121, in worker\n    result = (True, func(*args, **kwds))\n  File \"C:\\Users\\thoma\\Anaconda3\\lib\\multiprocessing\\pool.py\", line 44, in mapstar\n    return list(map(*args))\n  File \"c:\\users\\thoma\\programming\\mpslib\\scikit-mps\\mpslib\\mpslib.py\", line 406, in run_unpack\n    Omul.run(thread=thread)\n  File \"c:\\users\\thoma\\programming\\mpslib\\scikit-mps\\mpslib\\mpslib.py\", line 462, in run\n    self.par_write()\n  File \"c:\\users\\thoma\\programming\\mpslib\\scikit-mps\\mpslib\\mpslib.py\", line 169, in par_write\n    raise Exception(s)\nException: unknown method type: genesim\n\"\"\"",
      "\nThe above exception was the direct cause of the following exception:\n",
      "\u001b[1;31mException\u001b[0m                                 Traceback (most recent call last)",
      "\u001b[1;32m<ipython-input-19-8df94daed105>\u001b[0m in \u001b[0;36m<module>\u001b[1;34m\u001b[0m\n\u001b[0;32m      1\u001b[0m \u001b[0mO\u001b[0m\u001b[1;33m.\u001b[0m\u001b[0mti\u001b[0m \u001b[1;33m=\u001b[0m \u001b[0mTI\u001b[0m\u001b[1;33m\u001b[0m\u001b[1;33m\u001b[0m\u001b[0m\n\u001b[1;32m----> 2\u001b[1;33m \u001b[0mO\u001b[0m\u001b[1;33m.\u001b[0m\u001b[0mrun_parallel\u001b[0m\u001b[1;33m(\u001b[0m\u001b[1;33m)\u001b[0m\u001b[1;33m\u001b[0m\u001b[1;33m\u001b[0m\u001b[0m\n\u001b[0m\u001b[0;32m      3\u001b[0m \u001b[1;31m#O.run()\u001b[0m\u001b[1;33m\u001b[0m\u001b[1;33m\u001b[0m\u001b[1;33m\u001b[0m\u001b[0m\n",
      "\u001b[1;32mc:\\users\\thoma\\programming\\mpslib\\scikit-mps\\mpslib\\mpslib.py\u001b[0m in \u001b[0;36mrun_parallel\u001b[1;34m(self)\u001b[0m\n\u001b[0;32m    376\u001b[0m         \u001b[0mfreeze_support\u001b[0m\u001b[1;33m(\u001b[0m\u001b[1;33m)\u001b[0m\u001b[1;33m\u001b[0m\u001b[1;33m\u001b[0m\u001b[0m\n\u001b[0;32m    377\u001b[0m         \u001b[0mp\u001b[0m \u001b[1;33m=\u001b[0m \u001b[0mPool\u001b[0m\u001b[1;33m(\u001b[0m\u001b[0mNcpu\u001b[0m\u001b[1;33m)\u001b[0m\u001b[1;33m\u001b[0m\u001b[1;33m\u001b[0m\u001b[0m\n\u001b[1;32m--> 378\u001b[1;33m         \u001b[0mOmul\u001b[0m \u001b[1;33m=\u001b[0m \u001b[0mp\u001b[0m\u001b[1;33m.\u001b[0m\u001b[0mmap\u001b[0m\u001b[1;33m(\u001b[0m\u001b[0mmpslib\u001b[0m\u001b[1;33m.\u001b[0m\u001b[0mrun_unpack\u001b[0m\u001b[1;33m,\u001b[0m \u001b[0mOall\u001b[0m\u001b[1;33m)\u001b[0m\u001b[1;33m\u001b[0m\u001b[1;33m\u001b[0m\u001b[0m\n\u001b[0m\u001b[0;32m    379\u001b[0m \u001b[1;33m\u001b[0m\u001b[0m\n\u001b[0;32m    380\u001b[0m \u001b[1;33m\u001b[0m\u001b[0m\n",
      "\u001b[1;32m~\\Anaconda3\\lib\\multiprocessing\\pool.py\u001b[0m in \u001b[0;36mmap\u001b[1;34m(self, func, iterable, chunksize)\u001b[0m\n\u001b[0;32m    266\u001b[0m         \u001b[1;32min\u001b[0m \u001b[0ma\u001b[0m \u001b[0mlist\u001b[0m \u001b[0mthat\u001b[0m \u001b[1;32mis\u001b[0m \u001b[0mreturned\u001b[0m\u001b[1;33m.\u001b[0m\u001b[1;33m\u001b[0m\u001b[1;33m\u001b[0m\u001b[0m\n\u001b[0;32m    267\u001b[0m         '''\n\u001b[1;32m--> 268\u001b[1;33m         \u001b[1;32mreturn\u001b[0m \u001b[0mself\u001b[0m\u001b[1;33m.\u001b[0m\u001b[0m_map_async\u001b[0m\u001b[1;33m(\u001b[0m\u001b[0mfunc\u001b[0m\u001b[1;33m,\u001b[0m \u001b[0miterable\u001b[0m\u001b[1;33m,\u001b[0m \u001b[0mmapstar\u001b[0m\u001b[1;33m,\u001b[0m \u001b[0mchunksize\u001b[0m\u001b[1;33m)\u001b[0m\u001b[1;33m.\u001b[0m\u001b[0mget\u001b[0m\u001b[1;33m(\u001b[0m\u001b[1;33m)\u001b[0m\u001b[1;33m\u001b[0m\u001b[1;33m\u001b[0m\u001b[0m\n\u001b[0m\u001b[0;32m    269\u001b[0m \u001b[1;33m\u001b[0m\u001b[0m\n\u001b[0;32m    270\u001b[0m     \u001b[1;32mdef\u001b[0m \u001b[0mstarmap\u001b[0m\u001b[1;33m(\u001b[0m\u001b[0mself\u001b[0m\u001b[1;33m,\u001b[0m \u001b[0mfunc\u001b[0m\u001b[1;33m,\u001b[0m \u001b[0miterable\u001b[0m\u001b[1;33m,\u001b[0m \u001b[0mchunksize\u001b[0m\u001b[1;33m=\u001b[0m\u001b[1;32mNone\u001b[0m\u001b[1;33m)\u001b[0m\u001b[1;33m:\u001b[0m\u001b[1;33m\u001b[0m\u001b[1;33m\u001b[0m\u001b[0m\n",
      "\u001b[1;32m~\\Anaconda3\\lib\\multiprocessing\\pool.py\u001b[0m in \u001b[0;36mget\u001b[1;34m(self, timeout)\u001b[0m\n\u001b[0;32m    655\u001b[0m             \u001b[1;32mreturn\u001b[0m \u001b[0mself\u001b[0m\u001b[1;33m.\u001b[0m\u001b[0m_value\u001b[0m\u001b[1;33m\u001b[0m\u001b[1;33m\u001b[0m\u001b[0m\n\u001b[0;32m    656\u001b[0m         \u001b[1;32melse\u001b[0m\u001b[1;33m:\u001b[0m\u001b[1;33m\u001b[0m\u001b[1;33m\u001b[0m\u001b[0m\n\u001b[1;32m--> 657\u001b[1;33m             \u001b[1;32mraise\u001b[0m \u001b[0mself\u001b[0m\u001b[1;33m.\u001b[0m\u001b[0m_value\u001b[0m\u001b[1;33m\u001b[0m\u001b[1;33m\u001b[0m\u001b[0m\n\u001b[0m\u001b[0;32m    658\u001b[0m \u001b[1;33m\u001b[0m\u001b[0m\n\u001b[0;32m    659\u001b[0m     \u001b[1;32mdef\u001b[0m \u001b[0m_set\u001b[0m\u001b[1;33m(\u001b[0m\u001b[0mself\u001b[0m\u001b[1;33m,\u001b[0m \u001b[0mi\u001b[0m\u001b[1;33m,\u001b[0m \u001b[0mobj\u001b[0m\u001b[1;33m)\u001b[0m\u001b[1;33m:\u001b[0m\u001b[1;33m\u001b[0m\u001b[1;33m\u001b[0m\u001b[0m\n",
      "\u001b[1;31mException\u001b[0m: unknown method type: genesim"
     ]
    }
   ],
   "source": [
    "O.ti = TI\n",
    "O.run_parallel()\n",
    "#O.run()\n"
   ]
  },
  {
   "cell_type": "code",
   "execution_count": 15,
   "metadata": {
    "colab": {},
    "colab_type": "code",
    "id": "YHneXKN0sVCN"
   },
   "outputs": [
    {
     "data": {
      "image/png": "[encoded data removed]",
      "text/plain": [
       "<Figure size 432x288 with 9 Axes>"
      ]
     },
     "metadata": {
      "needs_background": "light"
     },
     "output_type": "display_data"
    },
    {
     "data": {
      "image/png": "[encoded data removed]",
      "text/plain": [
       "<Figure size 432x288 with 4 Axes>"
      ]
     },
     "metadata": {
      "needs_background": "light"
     },
     "output_type": "display_data"
    }
   ],
   "source": [
    "O.plot_reals()\n",
    "O.plot_etype()"
   ]
  },
  {
   "cell_type": "code",
   "execution_count": null,
   "metadata": {},
   "outputs": [],
   "source": []
  }
 ],
 "metadata": {
  "colab": {
   "collapsed_sections": [
    "y8bVpm11gCLw"
   ],
   "name": "mpslib_in_google_colab.ipynb",
   "provenance": [],
   "version": "0.3.2"
  },
  "kernelspec": {
   "display_name": "Python 3",
   "language": "python",
   "name": "python3"
  },
  "language_info": {
   "codemirror_mode": {
    "name": "ipython",
    "version": 3
   },
   "file_extension": ".py",
   "mimetype": "text/x-python",
   "name": "python",
   "nbconvert_exporter": "python",
   "pygments_lexer": "ipython3",
   "version": "3.7.3"
  }
 },
 "nbformat": 4,
 "nbformat_minor": 1
}
