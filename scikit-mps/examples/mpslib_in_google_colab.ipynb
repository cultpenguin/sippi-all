{
  "nbformat": 4,
  "nbformat_minor": 0,
  "metadata": {
    "colab": {
      "name": "Copy of mpslib_in_google_colab.ipynb",
      "provenance": [],
      "collapsed_sections": []
    },
    "kernelspec": {
      "name": "python3",
      "display_name": "Python 3"
    },
    "language_info": {
      "codemirror_mode": {
        "name": "ipython",
        "version": 3
      },
      "file_extension": ".py",
      "mimetype": "text/x-python",
      "name": "python",
      "nbconvert_exporter": "python",
      "pygments_lexer": "ipython3",
      "version": "3.7.2"
    }
  },
  "cells": [
    {
      "cell_type": "markdown",
      "metadata": {
        "colab_type": "text",
        "id": "rMCeH4O_jlZg"
      },
      "source": [
        "# MPSLIB in Google Colab\n",
        "This is a simple example of running MPSLIB online in Google Colab"
      ]
    },
    {
      "cell_type": "markdown",
      "metadata": {
        "colab_type": "text",
        "id": "9lWUZXe2oGjj"
      },
      "source": [
        "## INSTALL MPSLIB (simple) (only needed once on google colab)"
      ]
    },
    {
      "cell_type": "code",
      "metadata": {
        "colab_type": "code",
        "id": "w9IL9AA_n3Q3",
        "outputId": "ed60e833-b4d5-410b-e545-f8d36bf7d414",
        "colab": {
          "base_uri": "https://localhost:8080/",
          "height": 34
        }
      },
      "source": [
        "module_name='mpslib'\n",
        "try:\n",
        "    __import__(module_name)\n",
        "    print('%s allready installed. skipping installation.' % module_name)\n",
        "        \n",
        "except ImportError:\n",
        "    print('%s cannot be loaded. trying to install it.' % module_name)\n",
        "    !curl -O https://raw.githubusercontent.com/ergosimulation/mpslib/master/install_latest_mpslib.sh\n",
        "    !sh ./install_latest_mpslib.sh\n",
        "        "
      ],
      "execution_count": 9,
      "outputs": [
        {
          "output_type": "stream",
          "text": [
            "mpslib allready installed. skipping installation.\n"
          ],
          "name": "stdout"
        }
      ]
    },
    {
      "cell_type": "markdown",
      "metadata": {
        "colab_type": "text",
        "id": "60o5bfdpgsvM"
      },
      "source": [
        "# MPSLIB IN PYTHON"
      ]
    },
    {
      "cell_type": "code",
      "metadata": {
        "colab_type": "code",
        "id": "9iUgRDY-gbg6",
        "colab": {}
      },
      "source": [
        "import mpslib as mps\n",
        "import numpy as np\n",
        "import matplotlib.pyplot as plt\n"
      ],
      "execution_count": 0,
      "outputs": []
    },
    {
      "cell_type": "markdown",
      "metadata": {
        "colab_type": "text",
        "id": "d6SBCNkCf2RY"
      },
      "source": [
        "### Load a training image"
      ]
    },
    {
      "cell_type": "code",
      "metadata": {
        "colab_type": "code",
        "id": "ypwUx5DBgV2u",
        "outputId": "9a714ad3-80fd-45b9-d063-244bcb5e96fd",
        "colab": {
          "base_uri": "https://localhost:8080/",
          "height": 232
        }
      },
      "source": [
        "TI, TI_filename = mps.trainingimages.strebelle(di=2, coarse3d=1)\n",
        "#TI, TI_filename = mps.trainingimages.checkerboard2()\n",
        "#TI, TI_filename = mps.trainingimages.rot90()\n",
        "\n",
        "plt.imshow(TI[:,:,0].T)\n",
        "#mps.trainingimages.ti_plot_all()\n"
      ],
      "execution_count": 6,
      "outputs": [
        {
          "output_type": "error",
          "ename": "AttributeError",
          "evalue": "ignored",
          "traceback": [
            "\u001b[0;31m---------------------------------------------------------------------------\u001b[0m",
            "\u001b[0;31mAttributeError\u001b[0m                            Traceback (most recent call last)",
            "\u001b[0;32m<ipython-input-6-9966150acfca>\u001b[0m in \u001b[0;36m<module>\u001b[0;34m()\u001b[0m\n\u001b[0;32m----> 1\u001b[0;31m \u001b[0mTI\u001b[0m\u001b[0;34m,\u001b[0m \u001b[0mTI_filename\u001b[0m \u001b[0;34m=\u001b[0m \u001b[0mmps\u001b[0m\u001b[0;34m.\u001b[0m\u001b[0mtrainingimages\u001b[0m\u001b[0;34m.\u001b[0m\u001b[0mstrebelle\u001b[0m\u001b[0;34m(\u001b[0m\u001b[0mdi\u001b[0m\u001b[0;34m=\u001b[0m\u001b[0;36m2\u001b[0m\u001b[0;34m,\u001b[0m \u001b[0mcoarse3d\u001b[0m\u001b[0;34m=\u001b[0m\u001b[0;36m1\u001b[0m\u001b[0;34m)\u001b[0m\u001b[0;34m\u001b[0m\u001b[0;34m\u001b[0m\u001b[0m\n\u001b[0m\u001b[1;32m      2\u001b[0m \u001b[0;31m#TI, TI_filename = mps.trainingimages.checkerboard2()\u001b[0m\u001b[0;34m\u001b[0m\u001b[0;34m\u001b[0m\u001b[0;34m\u001b[0m\u001b[0m\n\u001b[1;32m      3\u001b[0m \u001b[0;31m#TI, TI_filename = mps.trainingimages.rot90()\u001b[0m\u001b[0;34m\u001b[0m\u001b[0;34m\u001b[0m\u001b[0;34m\u001b[0m\u001b[0m\n\u001b[1;32m      4\u001b[0m \u001b[0;34m\u001b[0m\u001b[0m\n\u001b[1;32m      5\u001b[0m \u001b[0mplt\u001b[0m\u001b[0;34m.\u001b[0m\u001b[0mimshow\u001b[0m\u001b[0;34m(\u001b[0m\u001b[0mTI\u001b[0m\u001b[0;34m[\u001b[0m\u001b[0;34m:\u001b[0m\u001b[0;34m,\u001b[0m\u001b[0;34m:\u001b[0m\u001b[0;34m,\u001b[0m\u001b[0;36m0\u001b[0m\u001b[0;34m]\u001b[0m\u001b[0;34m.\u001b[0m\u001b[0mT\u001b[0m\u001b[0;34m)\u001b[0m\u001b[0;34m\u001b[0m\u001b[0;34m\u001b[0m\u001b[0m\n",
            "\u001b[0;31mAttributeError\u001b[0m: module 'mpslib' has no attribute 'trainingimages'"
          ]
        }
      ]
    },
    {
      "cell_type": "markdown",
      "metadata": {
        "id": "c9BuyH3yTY3r",
        "colab_type": "text"
      },
      "source": [
        "### Setup msplib"
      ]
    },
    {
      "cell_type": "code",
      "metadata": {
        "colab_type": "code",
        "id": "VoZL9R2bgr2s",
        "outputId": "72e38f43-1e1b-4f98-9a82-0844879c1457",
        "colab": {
          "base_uri": "https://localhost:8080/",
          "height": 232
        }
      },
      "source": [
        "O = mps.mpslib(method='mps_snesim_tree',\n",
        "                    verbose_level=-1, debug_level=-1)\n",
        "#O = mps.mpslib(method='mps_genesim')\n",
        "O.parameter_filename = 'mps.txt'\n",
        "O.par['n_real']=9\n",
        "O.par['n_cond']=36\n",
        "O.par['template_size']=np.array([[10,5],[10,5],[1,1]])\n",
        "O.par['origin']=np.array([0,0,0])\n",
        "O.par['simulation_grid_size']=np.array([40,20,1])\n",
        "\n",
        "# hard data\n",
        "O.d_hard = np.array([[ 10, 5, 0, 1],\n",
        "                       [ 30, 15, 0, 0]])\n",
        "\n",
        "# soft data\n",
        "O.d_soft = np.array([[ 10, 15, 0, 0.9, 0.1],\n",
        "                       [ 30, 5, 0, 0.9, 0.1]])\n",
        "\n",
        "\n",
        "# show parameter setting\n",
        "O.par\n"
      ],
      "execution_count": 4,
      "outputs": [
        {
          "output_type": "error",
          "ename": "AttributeError",
          "evalue": "ignored",
          "traceback": [
            "\u001b[0;31m---------------------------------------------------------------------------\u001b[0m",
            "\u001b[0;31mAttributeError\u001b[0m                            Traceback (most recent call last)",
            "\u001b[0;32m<ipython-input-4-5a1c45aecf90>\u001b[0m in \u001b[0;36m<module>\u001b[0;34m()\u001b[0m\n\u001b[0;32m----> 1\u001b[0;31m O = mps.mpslib(method='mps_snesim_tree',\n\u001b[0m\u001b[1;32m      2\u001b[0m                     verbose_level=-1, debug_level=-1)\n\u001b[1;32m      3\u001b[0m \u001b[0;31m#O = mps.mpslib(method='mps_genesim')\u001b[0m\u001b[0;34m\u001b[0m\u001b[0;34m\u001b[0m\u001b[0;34m\u001b[0m\u001b[0m\n\u001b[1;32m      4\u001b[0m \u001b[0mO\u001b[0m\u001b[0;34m.\u001b[0m\u001b[0mparameter_filename\u001b[0m \u001b[0;34m=\u001b[0m \u001b[0;34m'mps.txt'\u001b[0m\u001b[0;34m\u001b[0m\u001b[0;34m\u001b[0m\u001b[0m\n\u001b[1;32m      5\u001b[0m \u001b[0mO\u001b[0m\u001b[0;34m.\u001b[0m\u001b[0mpar\u001b[0m\u001b[0;34m[\u001b[0m\u001b[0;34m'n_real'\u001b[0m\u001b[0;34m]\u001b[0m\u001b[0;34m=\u001b[0m\u001b[0;36m9\u001b[0m\u001b[0;34m\u001b[0m\u001b[0;34m\u001b[0m\u001b[0m\n",
            "\u001b[0;31mAttributeError\u001b[0m: module 'mpslib' has no attribute 'mpslib'"
          ]
        }
      ]
    },
    {
      "cell_type": "markdown",
      "metadata": {
        "colab_type": "text",
        "id": "BOm6ElYHfzKf"
      },
      "source": [
        "###Run MPSLIB"
      ]
    },
    {
      "cell_type": "code",
      "metadata": {
        "colab_type": "code",
        "id": "9pZ9M_jrgxZc",
        "outputId": "ed06d179-bd8c-4778-834b-15eec5880c1e",
        "colab": {
          "base_uri": "https://localhost:8080/",
          "height": 187
        }
      },
      "source": [
        "O.ti = TI\n",
        "O.run_parallel()\n",
        "#O.run()\n"
      ],
      "execution_count": 0,
      "outputs": [
        {
          "output_type": "stream",
          "text": [
            "parallel: using 2 threads to simulate 9 realizations\n",
            "parallel: with up to 5 relizations per thread\n",
            "parallel: Using 2 of max 2 threads\n",
            "__name__ = mpslib.mpslib\n",
            "Thread:000, nr=5\n",
            "Thread:001, nr=4\n",
            "parallel job done. Collecting data from threads\n",
            "parallel: collected 9 realizations\n"
          ],
          "name": "stdout"
        },
        {
          "output_type": "execute_result",
          "data": {
            "text/plain": [
              "[<mpslib.mpslib.mpslib at 0x7fbdebe44dd8>,\n",
              " <mpslib.mpslib.mpslib at 0x7fbe068e2748>]"
            ]
          },
          "metadata": {
            "tags": []
          },
          "execution_count": 7
        }
      ]
    },
    {
      "cell_type": "code",
      "metadata": {
        "colab_type": "code",
        "id": "YHneXKN0sVCN",
        "outputId": "796f9a5c-3ddb-4187-f49e-d40d2f2357c9",
        "colab": {
          "base_uri": "https://localhost:8080/",
          "height": 513
        }
      },
      "source": [
        "O.plot_reals()\n",
        "O.plot_etype()"
      ],
      "execution_count": 0,
      "outputs": [
        {
          "output_type": "display_data",
          "data": {
            "image/png": "[encoded data removed]",
            "text/plain": [
              "<Figure size 432x288 with 9 Axes>"
            ]
          },
          "metadata": {
            "tags": []
          }
        },
        {
          "output_type": "display_data",
          "data": {
            "image/png": "[encoded data removed]",
            "text/plain": [
              "<Figure size 432x288 with 4 Axes>"
            ]
          },
          "metadata": {
            "tags": []
          }
        }
      ]
    },
    {
      "cell_type": "code",
      "metadata": {
        "id": "VakoFTB2TY3y",
        "colab_type": "code",
        "colab": {}
      },
      "source": [
        ""
      ],
      "execution_count": 0,
      "outputs": []
    }
  ]
}